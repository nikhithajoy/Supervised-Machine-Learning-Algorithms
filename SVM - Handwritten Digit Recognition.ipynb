{
  "nbformat": 4,
  "nbformat_minor": 0,
  "metadata": {
    "colab": {
      "provenance": []
    },
    "kernelspec": {
      "name": "python3",
      "display_name": "Python 3"
    },
    "language_info": {
      "name": "python"
    }
  },
  "cells": [
    {
      "cell_type": "markdown",
      "source": [
        "# Support Vector Machine (SVM)\n",
        "\n",
        "Support Vector Machine (SVM) is a powerful supervised machine learning algorithm used for classification and regression tasks. It is known for its ability to handle both linear and non-linear data by finding the optimal hyperplane that best separates classes in a high-dimensional space. Here's a comprehensive overview of SVM:\n",
        "\n",
        "### 1. Objective:\n",
        "\n",
        "Classification: SVM aims to find the best hyperplane that maximizes the margin between two classes. This hyperplane is used to classify new data points into one of the two classes.\n",
        "Regression: SVM can also be used for regression tasks, where it tries to fit a hyperplane that captures as many data points as possible within a specified margin.\n",
        "### 2. Hyperplane:\n",
        "\n",
        "In a two-dimensional space, a hyperplane is simply a straight line that separates two classes.\n",
        "In higher dimensions, the hyperplane becomes a multidimensional plane.\n",
        "### 3. Margin:\n",
        "\n",
        "The margin is the distance between the hyperplane and the nearest data points from each class. SVM seeks to maximize this margin.\n",
        "Data points that lie on the margin are called \"support vectors\" and play a crucial role in determining the hyperplane.\n",
        "### 4. Kernel Trick:\n",
        "\n",
        "SVM can handle non-linear data by mapping the original data into a higher-dimensional space using a kernel function.\n",
        "Common kernel functions include Linear, Polynomial, Radial Basis Function (RBF/Gaussian), and Sigmoid kernels.\n",
        "### 5. C Parameter:\n",
        "\n",
        "SVM has a hyperparameter called \"C\" that controls the trade-off between maximizing the margin and minimizing classification errors.\n",
        "A smaller C value results in a larger margin but may allow some misclassifications, while a larger C value may reduce the margin but aims to minimize misclassifications.\n",
        "### 6. Soft Margin SVM:\n",
        "\n",
        "In real-world scenarios, data is often not perfectly separable. Soft Margin SVM allows for a certain degree of misclassification by introducing a slack variable, which helps find a balance between margin size and misclassification.\n",
        "### 7. Multi-Class Classification:\n",
        "\n",
        "SVM can be used for multi-class classification using techniques like one-vs-all (OvA) or one-vs-one (OvO) classification.\n",
        "### 8. Advantages:\n",
        "\n",
        "Effective for high-dimensional data.\n",
        "Works well with both linear and non-linear data.\n",
        "Robust against overfitting, especially when using a proper C value.\n",
        "### 9. Disadvantages:\n",
        "\n",
        "Can be sensitive to the choice of kernel and its parameters.\n",
        "Computationally intensive, especially with large datasets.\n",
        "Interpretability of the hyperplane can be challenging in high-dimensional spaces.\n",
        "### 10. Applications:\n",
        "- Text classification (e.g., spam detection).\n",
        "- Image classification (e.g., handwritten digit recognition).\n",
        "- Bioinformatics (e.g., protein classification).\n",
        "- Finance (e.g., stock price prediction).\n",
        "- Face detection and image segmentation.\n",
        "\n",
        "Support Vector Machines are a versatile tool in the field of machine learning, offering a powerful approach to both classification and regression tasks, provided that the choice of kernel and hyperparameters is carefully tuned to the specific problem at hand.\n"
      ],
      "metadata": {
        "id": "mFsa0-Ax6YUb"
      }
    },
    {
      "cell_type": "markdown",
      "source": [
        "# Project Title: Handwritten Digit Recognition with Support Vector Machines (SVM)\n",
        "\n",
        "### Project Overview:\n",
        "\n",
        "In the era of machine learning and artificial intelligence, digit recognition plays a fundamental role in various applications, from automated mail sorting to digitized handwriting recognition. This project aims to build a robust Handwritten Digit Recognition system using Support Vector Machines (SVM) with the MNIST dataset.\n",
        "\n",
        "### Introduction:\n",
        "Handwritten Digit Recognition is a classic problem in the field of computer vision and machine learning. The ability to accurately classify handwritten digits is a foundational step in many real-world applications, including OCR (Optical Character Recognition), digitized document processing, and even recognizing handwritten numbers on checks and forms.\n",
        "\n",
        "### Objective:\n",
        "The primary objective of this project is to develop a digit recognition system capable of accurately identifying handwritten digits (0-9) from input images. We will accomplish this using Support Vector Machines, a powerful machine learning algorithm known for its effectiveness in classification tasks.\n",
        "\n",
        "### Dataset:\n",
        "The project utilizes the MNIST dataset, one of the most widely used datasets for digit recognition. It consists of 70,000 28x28 pixel grayscale images of handwritten digits, with each image labeled with the corresponding digit.\n",
        "\n",
        "### Methodology:\n",
        "\n",
        "  1. Data Preprocessing:\n",
        "\n",
        "  The MNIST dataset is preprocessed to ensure uniformity and prepare it for training. This includes scaling and normalization.\n",
        "  Feature Extraction:\n",
        "\n",
        "  As SVMs work with fixed-size feature vectors, each 28x28 pixel image is flattened into a 1D array of 784 features.\n",
        "  2. Model Building:\n",
        "\n",
        "  We employ the scikit-learn library to create an SVM classifier. The choice of kernel (e.g., radial basis function, linear) and hyperparameters (e.g., C value) will be tuned for optimal performance.\n",
        "  3. Training:\n",
        "\n",
        "  The model is trained on a subset of the MNIST dataset, and the SVM learns to distinguish between the different digits.\n",
        "  4. Evaluation:\n",
        "\n",
        "  The model's performance is assessed using metrics like accuracy, precision, recall, and F1-score on a separate test dataset.\n",
        "  5. Visualization and Interpretation:\n",
        "\n",
        "  Exploratory Data Analysis (EDA) is performed to visualize the dataset, class distribution, and sample digit images.\n",
        "  6. Expected Outcome:\n",
        "  The project aims to build a digit recognition system that achieves high accuracy in identifying handwritten digits. The final SVM model will be capable of taking an input image of a handwritten digit and accurately predicting the digit it represents.\n",
        "\n",
        "### Applications:\n",
        "The developed Handwritten Digit Recognition system can find applications in various fields, including:\n",
        "\n",
        "Automated document processing\n",
        "Check and form processing in banking\n",
        "Digitized handwriting recognition\n",
        "OCR for digitized manuscripts and historical documents\n",
        "### Conclusion:\n",
        "This project provides a practical and educational experience in the development and application of Support Vector Machines for image classification. It showcases the importance of machine learning in automating tasks that involve handwritten text recognition, contributing to advancements in automation and data processing."
      ],
      "metadata": {
        "id": "Kv4mncqcBQ-A"
      }
    },
    {
      "cell_type": "code",
      "execution_count": 12,
      "metadata": {
        "id": "DijzdfNUz4Fw"
      },
      "outputs": [],
      "source": [
        "# Import necessary libraries\n",
        "import numpy as np\n",
        "import matplotlib.pyplot as plt\n",
        "import seaborn as sns\n",
        "from sklearn import datasets\n",
        "from sklearn.model_selection import train_test_split\n",
        "from sklearn import svm\n",
        "from sklearn.metrics import accuracy_score"
      ]
    },
    {
      "cell_type": "code",
      "source": [
        "# Load the MNIST dataset\n",
        "mnist = datasets.fetch_openml('mnist_784', version=1)\n",
        "X, y = mnist.data, mnist.target.astype(int)"
      ],
      "metadata": {
        "colab": {
          "base_uri": "https://localhost:8080/"
        },
        "id": "FrMlPdun7S5N",
        "outputId": "4d57871e-fe22-4338-a441-c507c5f924a3"
      },
      "execution_count": 2,
      "outputs": [
        {
          "output_type": "stream",
          "name": "stderr",
          "text": [
            "/usr/local/lib/python3.10/dist-packages/sklearn/datasets/_openml.py:968: FutureWarning: The default value of `parser` will change from `'liac-arff'` to `'auto'` in 1.4. You can set `parser='auto'` to silence this warning. Therefore, an `ImportError` will be raised from 1.4 if the dataset is dense and pandas is not installed. Note that the pandas parser may return different data types. See the Notes Section in fetch_openml's API doc for details.\n",
            "  warn(\n"
          ]
        }
      ]
    },
    {
      "cell_type": "code",
      "source": [
        "# Check the shape of the dataset\n",
        "print(\"Dataset shape:\", X.shape)"
      ],
      "metadata": {
        "colab": {
          "base_uri": "https://localhost:8080/"
        },
        "id": "wnZnEV_w727I",
        "outputId": "60959496-b5fb-484d-8b42-fb6c6f109cf6"
      },
      "execution_count": 8,
      "outputs": [
        {
          "output_type": "stream",
          "name": "stdout",
          "text": [
            "Dataset shape: (70000, 784)\n"
          ]
        }
      ]
    },
    {
      "cell_type": "code",
      "source": [
        "# Check the distribution of classes\n",
        "plt.figure(figsize=(8, 6))\n",
        "sns.countplot(x=y)\n",
        "plt.title(\"Class Distribution\")\n",
        "plt.xlabel(\"Digit\")\n",
        "plt.ylabel(\"Count\")\n",
        "plt.show()"
      ],
      "metadata": {
        "colab": {
          "base_uri": "https://localhost:8080/",
          "height": 564
        },
        "id": "UEzMt-lR76BW",
        "outputId": "fae7c3f3-54f8-4b36-c9df-26a7a84e8a28"
      },
      "execution_count": 13,
      "outputs": [
        {
          "output_type": "display_data",
          "data": {
            "text/plain": [
              "<Figure size 800x600 with 1 Axes>"
            ],
            "image/png": "[encoded data removed]"
          },
          "metadata": {}
        }
      ]
    },
    {
      "cell_type": "code",
      "source": [
        "# Visualize some sample digits\n",
        "plt.figure(figsize=(10, 4))\n",
        "for i in range(10):\n",
        "    plt.subplot(2, 5, i + 1)\n",
        "    digit_data = X[y == i].iloc[0].values.reshape(28, 28)\n",
        "    plt.imshow(digit_data, cmap='gray')\n",
        "    plt.title(f\"Digit {i}\")\n",
        "    plt.axis('off')\n",
        "plt.tight_layout()\n",
        "plt.show()"
      ],
      "metadata": {
        "colab": {
          "base_uri": "https://localhost:8080/",
          "height": 410
        },
        "id": "FBBg146_A8QJ",
        "outputId": "7bcf621c-612a-4c41-9351-abb3b1f49c50"
      },
      "execution_count": 14,
      "outputs": [
        {
          "output_type": "display_data",
          "data": {
            "text/plain": [
              "<Figure size 1000x400 with 10 Axes>"
            ],
            "image/png": "[encoded data removed]"
          },
          "metadata": {}
        }
      ]
    },
    {
      "cell_type": "code",
      "source": [
        "# Split the dataset into training and testing sets\n",
        "X_train, X_test, y_train, y_test = train_test_split(X, y, test_size=0.2, random_state=42)"
      ],
      "metadata": {
        "id": "eL-KluYm7Usa"
      },
      "execution_count": 3,
      "outputs": []
    },
    {
      "cell_type": "code",
      "source": [
        "# Create an SVM classifier\n",
        "clf = svm.SVC(kernel='rbf', C=1)  # You can experiment with different kernels and C values"
      ],
      "metadata": {
        "id": "8w99Ny6X7oFP"
      },
      "execution_count": 4,
      "outputs": []
    },
    {
      "cell_type": "code",
      "source": [
        "# Train the classifier on the training data\n",
        "clf.fit(X_train, y_train)"
      ],
      "metadata": {
        "colab": {
          "base_uri": "https://localhost:8080/",
          "height": 74
        },
        "id": "pSosTWQ_7rZg",
        "outputId": "7be9351c-b49c-4333-fd89-e680af90b043"
      },
      "execution_count": 5,
      "outputs": [
        {
          "output_type": "execute_result",
          "data": {
            "text/plain": [
              "SVC(C=1)"
            ],
            "text/html": [
              "<style>#sk-container-id-1 {color: black;background-color: white;}#sk-container-id-1 pre{padding: 0;}#sk-container-id-1 div.sk-toggleable {background-color: white;}#sk-container-id-1 label.sk-toggleable__label {cursor: pointer;display: block;width: 100%;margin-bottom: 0;padding: 0.3em;box-sizing: border-box;text-align: center;}#sk-container-id-1 label.sk-toggleable__label-arrow:before {content: \"▸\";float: left;margin-right: 0.25em;color: #696969;}#sk-container-id-1 label.sk-toggleable__label-arrow:hover:before {color: black;}#sk-container-id-1 div.sk-estimator:hover label.sk-toggleable__label-arrow:before {color: black;}#sk-container-id-1 div.sk-toggleable__content {max-height: 0;max-width: 0;overflow: hidden;text-align: left;background-color: #f0f8ff;}#sk-container-id-1 div.sk-toggleable__content pre {margin: 0.2em;color: black;border-radius: 0.25em;background-color: #f0f8ff;}#sk-container-id-1 input.sk-toggleable__control:checked~div.sk-toggleable__content {max-height: 200px;max-width: 100%;overflow: auto;}#sk-container-id-1 input.sk-toggleable__control:checked~label.sk-toggleable__label-arrow:before {content: \"▾\";}#sk-container-id-1 div.sk-estimator input.sk-toggleable__control:checked~label.sk-toggleable__label {background-color: #d4ebff;}#sk-container-id-1 div.sk-label input.sk-toggleable__control:checked~label.sk-toggleable__label {background-color: #d4ebff;}#sk-container-id-1 input.sk-hidden--visually {border: 0;clip: rect(1px 1px 1px 1px);clip: rect(1px, 1px, 1px, 1px);height: 1px;margin: -1px;overflow: hidden;padding: 0;position: absolute;width: 1px;}#sk-container-id-1 div.sk-estimator {font-family: monospace;background-color: #f0f8ff;border: 1px dotted black;border-radius: 0.25em;box-sizing: border-box;margin-bottom: 0.5em;}#sk-container-id-1 div.sk-estimator:hover {background-color: #d4ebff;}#sk-container-id-1 div.sk-parallel-item::after {content: \"\";width: 100%;border-bottom: 1px solid gray;flex-grow: 1;}#sk-container-id-1 div.sk-label:hover label.sk-toggleable__label {background-color: #d4ebff;}#sk-container-id-1 div.sk-serial::before {content: \"\";position: absolute;border-left: 1px solid gray;box-sizing: border-box;top: 0;bottom: 0;left: 50%;z-index: 0;}#sk-container-id-1 div.sk-serial {display: flex;flex-direction: column;align-items: center;background-color: white;padding-right: 0.2em;padding-left: 0.2em;position: relative;}#sk-container-id-1 div.sk-item {position: relative;z-index: 1;}#sk-container-id-1 div.sk-parallel {display: flex;align-items: stretch;justify-content: center;background-color: white;position: relative;}#sk-container-id-1 div.sk-item::before, #sk-container-id-1 div.sk-parallel-item::before {content: \"\";position: absolute;border-left: 1px solid gray;box-sizing: border-box;top: 0;bottom: 0;left: 50%;z-index: -1;}#sk-container-id-1 div.sk-parallel-item {display: flex;flex-direction: column;z-index: 1;position: relative;background-color: white;}#sk-container-id-1 div.sk-parallel-item:first-child::after {align-self: flex-end;width: 50%;}#sk-container-id-1 div.sk-parallel-item:last-child::after {align-self: flex-start;width: 50%;}#sk-container-id-1 div.sk-parallel-item:only-child::after {width: 0;}#sk-container-id-1 div.sk-dashed-wrapped {border: 1px dashed gray;margin: 0 0.4em 0.5em 0.4em;box-sizing: border-box;padding-bottom: 0.4em;background-color: white;}#sk-container-id-1 div.sk-label label {font-family: monospace;font-weight: bold;display: inline-block;line-height: 1.2em;}#sk-container-id-1 div.sk-label-container {text-align: center;}#sk-container-id-1 div.sk-container {/* jupyter's `normalize.less` sets `[hidden] { display: none; }` but bootstrap.min.css set `[hidden] { display: none !important; }` so we also need the `!important` here to be able to override the default hidden behavior on the sphinx rendered scikit-learn.org. See: https://github.com/scikit-learn/scikit-learn/issues/21755 */display: inline-block !important;position: relative;}#sk-container-id-1 div.sk-text-repr-fallback {display: none;}</style><div id=\"sk-container-id-1\" class=\"sk-top-container\"><div class=\"sk-text-repr-fallback\"><pre>SVC(C=1)</pre><b>In a Jupyter environment, please rerun this cell to show the HTML representation or trust the notebook. <br />On GitHub, the HTML representation is unable to render, please try loading this page with nbviewer.org.</b></div><div class=\"sk-container\" hidden><div class=\"sk-item\"><div class=\"sk-estimator sk-toggleable\"><input class=\"sk-toggleable__control sk-hidden--visually\" id=\"sk-estimator-id-1\" type=\"checkbox\" checked><label for=\"sk-estimator-id-1\" class=\"sk-toggleable__label sk-toggleable__label-arrow\">SVC</label><div class=\"sk-toggleable__content\"><pre>SVC(C=1)</pre></div></div></div></div></div>"
            ]
          },
          "metadata": {},
          "execution_count": 5
        }
      ]
    },
    {
      "cell_type": "code",
      "source": [
        "# Make predictions on the test data\n",
        "y_pred = clf.predict(X_test)"
      ],
      "metadata": {
        "id": "Z2vhGp657tJd"
      },
      "execution_count": 6,
      "outputs": []
    },
    {
      "cell_type": "code",
      "source": [
        "# Calculate accuracy\n",
        "accuracy = accuracy_score(y_test, y_pred)\n",
        "print(f\"Accuracy: {accuracy * 100:.2f}%\")"
      ],
      "metadata": {
        "colab": {
          "base_uri": "https://localhost:8080/"
        },
        "id": "igdkPTLQ7unB",
        "outputId": "de6b70cd-6e03-48a9-f2ea-3fb9e6dbc9ca"
      },
      "execution_count": 7,
      "outputs": [
        {
          "output_type": "stream",
          "name": "stdout",
          "text": [
            "Accuracy: 97.64%\n"
          ]
        }
      ]
    },
    {
      "cell_type": "code",
      "source": [],
      "metadata": {
        "id": "_5mJPRqJ7wZ5"
      },
      "execution_count": null,
      "outputs": []
    }
  ]
}