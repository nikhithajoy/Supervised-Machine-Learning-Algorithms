{
  "nbformat": 4,
  "nbformat_minor": 0,
  "metadata": {
    "colab": {
      "provenance": [],
      "gpuType": "T4"
    },
    "kernelspec": {
      "name": "python3",
      "display_name": "Python 3"
    },
    "language_info": {
      "name": "python"
    },
    "accelerator": "GPU"
  },
  "cells": [
    {
      "cell_type": "markdown",
      "source": [
        "# Naive Bayes Classifier\n",
        "\n",
        "### Introduction:\n",
        "Naive Bayes is a simple yet powerful machine learning algorithm used for classification tasks, particularly in natural language processing (NLP) and text classification. It is based on Bayes' theorem, a probabilistic model that calculates the probability of a particular event occurring based on prior knowledge of conditions that might be related to the event.\n",
        "\n",
        "### Key Concepts:\n",
        "\n",
        "**Bayes' Theorem**: At the core of Naive Bayes is Bayes' theorem, which is represented as:\n",
        "\n",
        "![Screenshot 2023-09-09 190619.png](data:image/png;base64,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)\n",
        "\n",
        "Where:\n",
        "\n",
        "P(A∣B) is the probability of event A occurring given that event B has occurred.\n",
        "P(B∣A) is the probability of event B occurring given that event A has occurred.\n",
        "P(A) is the prior probability of event A.\n",
        "P(B) is the prior probability of event B.\n",
        "\n",
        "**Conditional Independence**: The \"naive\" assumption in Naive Bayes is that features (attributes) are conditionally independent, meaning that the presence or absence of one feature does not affect the presence or absence of another feature. This simplifies the calculations significantly.\n",
        "\n",
        "### Working Principles:\n",
        "\n",
        "**Training**: In the training phase, the algorithm learns the probabilities of each feature occurring in each class from the given dataset. This involves calculating two main probabilities:\n",
        "    1. Class Probability P(C): The probability of each class occurring in the dataset.\n",
        "    2. Feature Probability P(Xi|c): The probability of each feature occurring within each class.\n",
        "\n",
        "**Classification**: In the classification phase, given a new data point with a set of features, the algorithm calculates the probability of the data point belonging to each class using Bayes' theorem. The class with the highest probability is assigned as the predicted class for the input data.\n",
        "\n",
        "### Applications:\n",
        "\n",
        "Naive Bayes is widely used in various applications, including:\n",
        "\n",
        "Text Classification: Spam email detection, sentiment analysis, topic classification, and language identification.\n",
        "Recommendation Systems: Recommending products, movies, or content to users based on their preferences.\n",
        "Medical Diagnosis: Identifying diseases based on patient symptoms and medical test results.\n",
        "Image Classification: Classifying images into categories.\n",
        "Customer Segmentation: Grouping customers based on purchasing behavior.\n",
        "\n",
        "### Advantages:\n",
        "\n",
        "- Simplicity: Naive Bayes is easy to understand and implement.\n",
        "- Efficiency: It is computationally efficient and works well with high-dimensional data.\n",
        "- Good with Small Datasets: It can perform well even with limited training data.\n",
        "- Handles Categorical Data: Naive Bayes can handle both numerical and categorical data.\n",
        "\n",
        "### Limitations:\n",
        "\n",
        "- Naive Assumption: The assumption of conditional independence is often not true in real-world datasets, which can lead to suboptimal results.\n",
        "- Sensitivity to Feature Correlation: It may not perform well when features are strongly correlated.\n",
        "- Zero Probability Issue: If a feature is not observed in a particular class in the training data, the algorithm assigns a probability of zero, which can cause issues.\n",
        "- Requires Sufficient Data: It performs best when sufficient data is available for accurate probability estimation.\n",
        "\n",
        "************************************************************************"
      ],
      "metadata": {
        "id": "vgiqKAF2JrHt"
      }
    },
    {
      "cell_type": "markdown",
      "source": [
        "# Project Title: Movie Review Sentiment Analysis with Naive Bayes\n",
        "\n",
        "### Project Overview:\n",
        "\n",
        "In this project, we will develop a machine learning model to perform sentiment analysis on movie reviews. Sentiment analysis, also known as opinion mining, is the process of determining the emotional tone or sentiment expressed in a piece of text. Specifically, we will classify movie reviews as either having a positive sentiment or a negative sentiment.\n",
        "\n",
        "### Project Goals:\n",
        "\n",
        "1. Data Collection and Preparation:\n",
        "\n",
        "Obtain the IMDb Movie Reviews dataset, which consists of text-based movie reviews labeled with sentiment (positive or negative).\n",
        "Perform data preprocessing, including text cleaning, tokenization, and numerical representation of text data.\n",
        "\n",
        "2. Exploratory Data Analysis (EDA):\n",
        "\n",
        "Analyze the dataset's structure, including the distribution of sentiment labels (positive vs. negative).\n",
        "Visualize the sentiment distribution to gain insights into the dataset.\n",
        "\n",
        "3. Model Building:\n",
        "\n",
        "Implement a sentiment analysis model using the Naive Bayes classifier.\n",
        "Use the CountVectorizer to convert text reviews into numerical features.\n",
        "Split the dataset into training and testing sets for model training and evaluation.\n",
        "\n",
        "4. Model Training:\n",
        "\n",
        "Train the Naive Bayes classifier on the training data.\n",
        "Utilize the Multinomial Naive Bayes algorithm, which is well-suited for text classification tasks.\n",
        "\n",
        "5. Model Evaluation:\n",
        "\n",
        "Evaluate the model's performance on the test dataset.\n",
        "Calculate accuracy, precision, recall, and F1-score.\n",
        "Generate a confusion matrix to assess classification performance.\n",
        "\n",
        "6. Visualization:\n",
        "\n",
        "Visualize the confusion matrix with annotated values to understand the model's true positive, true negative, false positive, and false negative predictions.\n",
        "\n",
        "### Expected Results:\n",
        "\n",
        "By the end of this project, you will have a well-trained sentiment analysis model that can classify movie reviews as either positive or negative. You will also gain insights into the model's performance through various evaluation metrics and visualizations.\n",
        "\n",
        "### Skills Demonstrated:\n",
        "\n",
        "Data preprocessing and cleaning.\n",
        "Exploratory data analysis.\n",
        "Text classification using the Naive Bayes algorithm.\n",
        "Model training and evaluation.\n",
        "Data visualization for performance assessment.\n",
        "\n",
        "### Prerequisites:\n",
        "\n",
        "- Python programming skills.\n",
        "- Knowledge of machine learning concepts, particularly Naive Bayes.\n",
        "- Familiarity with libraries like scikit-learn, pandas, numpy, matplotlib, and seaborn.\n",
        "- Access to the IMDb Movie Reviews dataset.\n",
        "\n",
        "\n",
        "**Note:** Ensure that you have downloaded the IMDb Movie Reviews dataset or a similar dataset before starting the project.\n",
        "\n",
        "This project will provide you with hands-on experience in natural language processing and sentiment analysis, which are valuable skills in various industries, including marketing, customer feedback analysis, and social media monitoring."
      ],
      "metadata": {
        "id": "G4aHdIpiLtov"
      }
    },
    {
      "cell_type": "code",
      "source": [
        "# Import necessary libraries\n",
        "import numpy as np\n",
        "import pandas as pd\n",
        "import matplotlib.pyplot as plt\n",
        "from sklearn.model_selection import train_test_split\n",
        "from sklearn.feature_extraction.text import CountVectorizer\n",
        "from sklearn.naive_bayes import MultinomialNB\n",
        "from sklearn.metrics import accuracy_score, classification_report, confusion_matrix"
      ],
      "metadata": {
        "id": "C1A_p_Z5GLpu"
      },
      "execution_count": 9,
      "outputs": []
    },
    {
      "cell_type": "code",
      "execution_count": 10,
      "metadata": {
        "colab": {
          "base_uri": "https://localhost:8080/"
        },
        "id": "DfOjo99KDleN",
        "outputId": "6cc892d0-3d84-4a6e-a463-a8bd8354c273"
      },
      "outputs": [
        {
          "output_type": "stream",
          "name": "stdout",
          "text": [
            "Drive already mounted at /content/drive; to attempt to forcibly remount, call drive.mount(\"/content/drive\", force_remount=True).\n"
          ]
        }
      ],
      "source": [
        "from google.colab import drive\n",
        "drive.mount('/content/drive')"
      ]
    },
    {
      "cell_type": "code",
      "source": [
        "# Access a specific folder in your Google Drive\n",
        "path = \"/content/drive/MyDrive/Dataset/IMDB Dataset.csv\"\n",
        "# Load dataset\n",
        "data = pd.read_csv(path)"
      ],
      "metadata": {
        "id": "wsqwr_4eFx2E"
      },
      "execution_count": 11,
      "outputs": []
    },
    {
      "cell_type": "code",
      "source": [
        "data.head()"
      ],
      "metadata": {
        "colab": {
          "base_uri": "https://localhost:8080/",
          "height": 206
        },
        "id": "IwIboHUYGH4y",
        "outputId": "8ff4682e-c9e8-4752-c966-ef98aafb62af"
      },
      "execution_count": 12,
      "outputs": [
        {
          "output_type": "execute_result",
          "data": {
            "text/plain": [
              "                                              review sentiment\n",
              "0  One of the other reviewers has mentioned that ...  positive\n",
              "1  A wonderful little production. <br /><br />The...  positive\n",
              "2  I thought this was a wonderful way to spend ti...  positive\n",
              "3  Basically there's a family where a little boy ...  negative\n",
              "4  Petter Mattei's \"Love in the Time of Money\" is...  positive"
            ],
            "text/html": [
              "\n",
              "  <div id=\"df-892ccb19-2556-4a2a-aa40-93b59b7e661d\" class=\"colab-df-container\">\n",
              "    <div>\n",
              "<style scoped>\n",
              "    .dataframe tbody tr th:only-of-type {\n",
              "        vertical-align: middle;\n",
              "    }\n",
              "\n",
              "    .dataframe tbody tr th {\n",
              "        vertical-align: top;\n",
              "    }\n",
              "\n",
              "    .dataframe thead th {\n",
              "        text-align: right;\n",
              "    }\n",
              "</style>\n",
              "<table border=\"1\" class=\"dataframe\">\n",
              "  <thead>\n",
              "    <tr style=\"text-align: right;\">\n",
              "      <th></th>\n",
              "      <th>review</th>\n",
              "      <th>sentiment</th>\n",
              "    </tr>\n",
              "  </thead>\n",
              "  <tbody>\n",
              "    <tr>\n",
              "      <th>0</th>\n",
              "      <td>One of the other reviewers has mentioned that ...</td>\n",
              "      <td>positive</td>\n",
              "    </tr>\n",
              "    <tr>\n",
              "      <th>1</th>\n",
              "      <td>A wonderful little production. &lt;br /&gt;&lt;br /&gt;The...</td>\n",
              "      <td>positive</td>\n",
              "    </tr>\n",
              "    <tr>\n",
              "      <th>2</th>\n",
              "      <td>I thought this was a wonderful way to spend ti...</td>\n",
              "      <td>positive</td>\n",
              "    </tr>\n",
              "    <tr>\n",
              "      <th>3</th>\n",
              "      <td>Basically there's a family where a little boy ...</td>\n",
              "      <td>negative</td>\n",
              "    </tr>\n",
              "    <tr>\n",
              "      <th>4</th>\n",
              "      <td>Petter Mattei's \"Love in the Time of Money\" is...</td>\n",
              "      <td>positive</td>\n",
              "    </tr>\n",
              "  </tbody>\n",
              "</table>\n",
              "</div>\n",
              "    <div class=\"colab-df-buttons\">\n",
              "\n",
              "  <div class=\"colab-df-container\">\n",
              "    <button class=\"colab-df-convert\" onclick=\"convertToInteractive('df-892ccb19-2556-4a2a-aa40-93b59b7e661d')\"\n",
              "            title=\"Convert this dataframe to an interactive table.\"\n",
              "            style=\"display:none;\">\n",
              "\n",
              "  <svg xmlns=\"http://www.w3.org/2000/svg\" height=\"24px\" viewBox=\"0 -960 960 960\">\n",
              "    <path d=\"M120-120v-720h720v720H120Zm60-500h600v-160H180v160Zm220 220h160v-160H400v160Zm0 220h160v-160H400v160ZM180-400h160v-160H180v160Zm440 0h160v-160H620v160ZM180-180h160v-160H180v160Zm440 0h160v-160H620v160Z\"/>\n",
              "  </svg>\n",
              "    </button>\n",
              "\n",
              "  <style>\n",
              "    .colab-df-container {\n",
              "      display:flex;\n",
              "      gap: 12px;\n",
              "    }\n",
              "\n",
              "    .colab-df-convert {\n",
              "      background-color: #E8F0FE;\n",
              "      border: none;\n",
              "      border-radius: 50%;\n",
              "      cursor: pointer;\n",
              "      display: none;\n",
              "      fill: #1967D2;\n",
              "      height: 32px;\n",
              "      padding: 0 0 0 0;\n",
              "      width: 32px;\n",
              "    }\n",
              "\n",
              "    .colab-df-convert:hover {\n",
              "      background-color: #E2EBFA;\n",
              "      box-shadow: 0px 1px 2px rgba(60, 64, 67, 0.3), 0px 1px 3px 1px rgba(60, 64, 67, 0.15);\n",
              "      fill: #174EA6;\n",
              "    }\n",
              "\n",
              "    .colab-df-buttons div {\n",
              "      margin-bottom: 4px;\n",
              "    }\n",
              "\n",
              "    [theme=dark] .colab-df-convert {\n",
              "      background-color: #3B4455;\n",
              "      fill: #D2E3FC;\n",
              "    }\n",
              "\n",
              "    [theme=dark] .colab-df-convert:hover {\n",
              "      background-color: #434B5C;\n",
              "      box-shadow: 0px 1px 3px 1px rgba(0, 0, 0, 0.15);\n",
              "      filter: drop-shadow(0px 1px 2px rgba(0, 0, 0, 0.3));\n",
              "      fill: #FFFFFF;\n",
              "    }\n",
              "  </style>\n",
              "\n",
              "    <script>\n",
              "      const buttonEl =\n",
              "        document.querySelector('#df-892ccb19-2556-4a2a-aa40-93b59b7e661d button.colab-df-convert');\n",
              "      buttonEl.style.display =\n",
              "        google.colab.kernel.accessAllowed ? 'block' : 'none';\n",
              "\n",
              "      async function convertToInteractive(key) {\n",
              "        const element = document.querySelector('#df-892ccb19-2556-4a2a-aa40-93b59b7e661d');\n",
              "        const dataTable =\n",
              "          await google.colab.kernel.invokeFunction('convertToInteractive',\n",
              "                                                    [key], {});\n",
              "        if (!dataTable) return;\n",
              "\n",
              "        const docLinkHtml = 'Like what you see? Visit the ' +\n",
              "          '<a target=\"_blank\" href=https://colab.research.google.com/notebooks/data_table.ipynb>data table notebook</a>'\n",
              "          + ' to learn more about interactive tables.';\n",
              "        element.innerHTML = '';\n",
              "        dataTable['output_type'] = 'display_data';\n",
              "        await google.colab.output.renderOutput(dataTable, element);\n",
              "        const docLink = document.createElement('div');\n",
              "        docLink.innerHTML = docLinkHtml;\n",
              "        element.appendChild(docLink);\n",
              "      }\n",
              "    </script>\n",
              "  </div>\n",
              "\n",
              "\n",
              "<div id=\"df-816d0009-4123-4610-a3e2-0a5b61e7588f\">\n",
              "  <button class=\"colab-df-quickchart\" onclick=\"quickchart('df-816d0009-4123-4610-a3e2-0a5b61e7588f')\"\n",
              "            title=\"Suggest charts.\"\n",
              "            style=\"display:none;\">\n",
              "\n",
              "<svg xmlns=\"http://www.w3.org/2000/svg\" height=\"24px\"viewBox=\"0 0 24 24\"\n",
              "     width=\"24px\">\n",
              "    <g>\n",
              "        <path d=\"M19 3H5c-1.1 0-2 .9-2 2v14c0 1.1.9 2 2 2h14c1.1 0 2-.9 2-2V5c0-1.1-.9-2-2-2zM9 17H7v-7h2v7zm4 0h-2V7h2v10zm4 0h-2v-4h2v4z\"/>\n",
              "    </g>\n",
              "</svg>\n",
              "  </button>\n",
              "\n",
              "<style>\n",
              "  .colab-df-quickchart {\n",
              "      --bg-color: #E8F0FE;\n",
              "      --fill-color: #1967D2;\n",
              "      --hover-bg-color: #E2EBFA;\n",
              "      --hover-fill-color: #174EA6;\n",
              "      --disabled-fill-color: #AAA;\n",
              "      --disabled-bg-color: #DDD;\n",
              "  }\n",
              "\n",
              "  [theme=dark] .colab-df-quickchart {\n",
              "      --bg-color: #3B4455;\n",
              "      --fill-color: #D2E3FC;\n",
              "      --hover-bg-color: #434B5C;\n",
              "      --hover-fill-color: #FFFFFF;\n",
              "      --disabled-bg-color: #3B4455;\n",
              "      --disabled-fill-color: #666;\n",
              "  }\n",
              "\n",
              "  .colab-df-quickchart {\n",
              "    background-color: var(--bg-color);\n",
              "    border: none;\n",
              "    border-radius: 50%;\n",
              "    cursor: pointer;\n",
              "    display: none;\n",
              "    fill: var(--fill-color);\n",
              "    height: 32px;\n",
              "    padding: 0;\n",
              "    width: 32px;\n",
              "  }\n",
              "\n",
              "  .colab-df-quickchart:hover {\n",
              "    background-color: var(--hover-bg-color);\n",
              "    box-shadow: 0 1px 2px rgba(60, 64, 67, 0.3), 0 1px 3px 1px rgba(60, 64, 67, 0.15);\n",
              "    fill: var(--button-hover-fill-color);\n",
              "  }\n",
              "\n",
              "  .colab-df-quickchart-complete:disabled,\n",
              "  .colab-df-quickchart-complete:disabled:hover {\n",
              "    background-color: var(--disabled-bg-color);\n",
              "    fill: var(--disabled-fill-color);\n",
              "    box-shadow: none;\n",
              "  }\n",
              "\n",
              "  .colab-df-spinner {\n",
              "    border: 2px solid var(--fill-color);\n",
              "    border-color: transparent;\n",
              "    border-bottom-color: var(--fill-color);\n",
              "    animation:\n",
              "      spin 1s steps(1) infinite;\n",
              "  }\n",
              "\n",
              "  @keyframes spin {\n",
              "    0% {\n",
              "      border-color: transparent;\n",
              "      border-bottom-color: var(--fill-color);\n",
              "      border-left-color: var(--fill-color);\n",
              "    }\n",
              "    20% {\n",
              "      border-color: transparent;\n",
              "      border-left-color: var(--fill-color);\n",
              "      border-top-color: var(--fill-color);\n",
              "    }\n",
              "    30% {\n",
              "      border-color: transparent;\n",
              "      border-left-color: var(--fill-color);\n",
              "      border-top-color: var(--fill-color);\n",
              "      border-right-color: var(--fill-color);\n",
              "    }\n",
              "    40% {\n",
              "      border-color: transparent;\n",
              "      border-right-color: var(--fill-color);\n",
              "      border-top-color: var(--fill-color);\n",
              "    }\n",
              "    60% {\n",
              "      border-color: transparent;\n",
              "      border-right-color: var(--fill-color);\n",
              "    }\n",
              "    80% {\n",
              "      border-color: transparent;\n",
              "      border-right-color: var(--fill-color);\n",
              "      border-bottom-color: var(--fill-color);\n",
              "    }\n",
              "    90% {\n",
              "      border-color: transparent;\n",
              "      border-bottom-color: var(--fill-color);\n",
              "    }\n",
              "  }\n",
              "</style>\n",
              "\n",
              "  <script>\n",
              "    async function quickchart(key) {\n",
              "      const quickchartButtonEl =\n",
              "        document.querySelector('#' + key + ' button');\n",
              "      quickchartButtonEl.disabled = true;  // To prevent multiple clicks.\n",
              "      quickchartButtonEl.classList.add('colab-df-spinner');\n",
              "      try {\n",
              "        const charts = await google.colab.kernel.invokeFunction(\n",
              "            'suggestCharts', [key], {});\n",
              "      } catch (error) {\n",
              "        console.error('Error during call to suggestCharts:', error);\n",
              "      }\n",
              "      quickchartButtonEl.classList.remove('colab-df-spinner');\n",
              "      quickchartButtonEl.classList.add('colab-df-quickchart-complete');\n",
              "    }\n",
              "    (() => {\n",
              "      let quickchartButtonEl =\n",
              "        document.querySelector('#df-816d0009-4123-4610-a3e2-0a5b61e7588f button');\n",
              "      quickchartButtonEl.style.display =\n",
              "        google.colab.kernel.accessAllowed ? 'block' : 'none';\n",
              "    })();\n",
              "  </script>\n",
              "</div>\n",
              "    </div>\n",
              "  </div>\n"
            ]
          },
          "metadata": {},
          "execution_count": 12
        }
      ]
    },
    {
      "cell_type": "code",
      "source": [
        "data.columns"
      ],
      "metadata": {
        "colab": {
          "base_uri": "https://localhost:8080/"
        },
        "id": "6E6ykbhMGUgy",
        "outputId": "45e60a6b-a875-4d3e-db79-b5c46eec1766"
      },
      "execution_count": 13,
      "outputs": [
        {
          "output_type": "execute_result",
          "data": {
            "text/plain": [
              "Index(['review', 'sentiment'], dtype='object')"
            ]
          },
          "metadata": {},
          "execution_count": 13
        }
      ]
    },
    {
      "cell_type": "code",
      "source": [
        "# Check the distribution of sentiment labels\n",
        "sentiment_counts = data['sentiment'].value_counts()\n",
        "print(sentiment_counts)"
      ],
      "metadata": {
        "colab": {
          "base_uri": "https://localhost:8080/"
        },
        "id": "X43Ab4HrGXI7",
        "outputId": "0f68ccea-3ee3-4bf4-864a-b5c52de8e8d4"
      },
      "execution_count": 15,
      "outputs": [
        {
          "output_type": "stream",
          "name": "stdout",
          "text": [
            "positive    25000\n",
            "negative    25000\n",
            "Name: sentiment, dtype: int64\n"
          ]
        }
      ]
    },
    {
      "cell_type": "code",
      "source": [
        "# Visualize the sentiment distribution\n",
        "plt.figure(figsize=(6, 6))\n",
        "plt.pie(sentiment_counts, labels=sentiment_counts.index, autopct='%1.1f%%')\n",
        "plt.title('Sentiment Distribution')\n",
        "plt.show()"
      ],
      "metadata": {
        "colab": {
          "base_uri": "https://localhost:8080/",
          "height": 521
        },
        "id": "gCUICHwcInhL",
        "outputId": "52e321b0-740d-4ae1-a027-8084517f7798"
      },
      "execution_count": 17,
      "outputs": [
        {
          "output_type": "display_data",
          "data": {
            "text/plain": [
              "<Figure size 600x600 with 1 Axes>"
            ],
            "image/png": "[encoded data removed]"
          },
          "metadata": {}
        }
      ]
    },
    {
      "cell_type": "code",
      "source": [
        "# Convert text reviews into numerical features using CountVectorizer\n",
        "vectorizer = CountVectorizer()\n",
        "X = vectorizer.fit_transform(data['review'])"
      ],
      "metadata": {
        "id": "eZuoU76lIsL6"
      },
      "execution_count": 19,
      "outputs": []
    },
    {
      "cell_type": "code",
      "source": [
        "# Split the dataset into training and testing sets\n",
        "X_train, X_test, y_train, y_test = train_test_split(X, data['sentiment'], test_size=0.2, random_state=42)"
      ],
      "metadata": {
        "id": "jWp_qJK3IwzY"
      },
      "execution_count": 20,
      "outputs": []
    },
    {
      "cell_type": "code",
      "source": [
        "# Initialize and train the Multinomial Naive Bayes classifier\n",
        "nb_classifier = MultinomialNB()\n",
        "nb_classifier.fit(X_train, y_train)"
      ],
      "metadata": {
        "colab": {
          "base_uri": "https://localhost:8080/",
          "height": 74
        },
        "id": "UE6r7GWHI6np",
        "outputId": "00b1d349-28a8-4b31-d84e-01238088adce"
      },
      "execution_count": 21,
      "outputs": [
        {
          "output_type": "execute_result",
          "data": {
            "text/plain": [
              "MultinomialNB()"
            ],
            "text/html": [
              "<style>#sk-container-id-1 {color: black;background-color: white;}#sk-container-id-1 pre{padding: 0;}#sk-container-id-1 div.sk-toggleable {background-color: white;}#sk-container-id-1 label.sk-toggleable__label {cursor: pointer;display: block;width: 100%;margin-bottom: 0;padding: 0.3em;box-sizing: border-box;text-align: center;}#sk-container-id-1 label.sk-toggleable__label-arrow:before {content: \"▸\";float: left;margin-right: 0.25em;color: #696969;}#sk-container-id-1 label.sk-toggleable__label-arrow:hover:before {color: black;}#sk-container-id-1 div.sk-estimator:hover label.sk-toggleable__label-arrow:before {color: black;}#sk-container-id-1 div.sk-toggleable__content {max-height: 0;max-width: 0;overflow: hidden;text-align: left;background-color: #f0f8ff;}#sk-container-id-1 div.sk-toggleable__content pre {margin: 0.2em;color: black;border-radius: 0.25em;background-color: #f0f8ff;}#sk-container-id-1 input.sk-toggleable__control:checked~div.sk-toggleable__content {max-height: 200px;max-width: 100%;overflow: auto;}#sk-container-id-1 input.sk-toggleable__control:checked~label.sk-toggleable__label-arrow:before {content: \"▾\";}#sk-container-id-1 div.sk-estimator input.sk-toggleable__control:checked~label.sk-toggleable__label {background-color: #d4ebff;}#sk-container-id-1 div.sk-label input.sk-toggleable__control:checked~label.sk-toggleable__label {background-color: #d4ebff;}#sk-container-id-1 input.sk-hidden--visually {border: 0;clip: rect(1px 1px 1px 1px);clip: rect(1px, 1px, 1px, 1px);height: 1px;margin: -1px;overflow: hidden;padding: 0;position: absolute;width: 1px;}#sk-container-id-1 div.sk-estimator {font-family: monospace;background-color: #f0f8ff;border: 1px dotted black;border-radius: 0.25em;box-sizing: border-box;margin-bottom: 0.5em;}#sk-container-id-1 div.sk-estimator:hover {background-color: #d4ebff;}#sk-container-id-1 div.sk-parallel-item::after {content: \"\";width: 100%;border-bottom: 1px solid gray;flex-grow: 1;}#sk-container-id-1 div.sk-label:hover label.sk-toggleable__label {background-color: #d4ebff;}#sk-container-id-1 div.sk-serial::before {content: \"\";position: absolute;border-left: 1px solid gray;box-sizing: border-box;top: 0;bottom: 0;left: 50%;z-index: 0;}#sk-container-id-1 div.sk-serial {display: flex;flex-direction: column;align-items: center;background-color: white;padding-right: 0.2em;padding-left: 0.2em;position: relative;}#sk-container-id-1 div.sk-item {position: relative;z-index: 1;}#sk-container-id-1 div.sk-parallel {display: flex;align-items: stretch;justify-content: center;background-color: white;position: relative;}#sk-container-id-1 div.sk-item::before, #sk-container-id-1 div.sk-parallel-item::before {content: \"\";position: absolute;border-left: 1px solid gray;box-sizing: border-box;top: 0;bottom: 0;left: 50%;z-index: -1;}#sk-container-id-1 div.sk-parallel-item {display: flex;flex-direction: column;z-index: 1;position: relative;background-color: white;}#sk-container-id-1 div.sk-parallel-item:first-child::after {align-self: flex-end;width: 50%;}#sk-container-id-1 div.sk-parallel-item:last-child::after {align-self: flex-start;width: 50%;}#sk-container-id-1 div.sk-parallel-item:only-child::after {width: 0;}#sk-container-id-1 div.sk-dashed-wrapped {border: 1px dashed gray;margin: 0 0.4em 0.5em 0.4em;box-sizing: border-box;padding-bottom: 0.4em;background-color: white;}#sk-container-id-1 div.sk-label label {font-family: monospace;font-weight: bold;display: inline-block;line-height: 1.2em;}#sk-container-id-1 div.sk-label-container {text-align: center;}#sk-container-id-1 div.sk-container {/* jupyter's `normalize.less` sets `[hidden] { display: none; }` but bootstrap.min.css set `[hidden] { display: none !important; }` so we also need the `!important` here to be able to override the default hidden behavior on the sphinx rendered scikit-learn.org. See: https://github.com/scikit-learn/scikit-learn/issues/21755 */display: inline-block !important;position: relative;}#sk-container-id-1 div.sk-text-repr-fallback {display: none;}</style><div id=\"sk-container-id-1\" class=\"sk-top-container\"><div class=\"sk-text-repr-fallback\"><pre>MultinomialNB()</pre><b>In a Jupyter environment, please rerun this cell to show the HTML representation or trust the notebook. <br />On GitHub, the HTML representation is unable to render, please try loading this page with nbviewer.org.</b></div><div class=\"sk-container\" hidden><div class=\"sk-item\"><div class=\"sk-estimator sk-toggleable\"><input class=\"sk-toggleable__control sk-hidden--visually\" id=\"sk-estimator-id-1\" type=\"checkbox\" checked><label for=\"sk-estimator-id-1\" class=\"sk-toggleable__label sk-toggleable__label-arrow\">MultinomialNB</label><div class=\"sk-toggleable__content\"><pre>MultinomialNB()</pre></div></div></div></div></div>"
            ]
          },
          "metadata": {},
          "execution_count": 21
        }
      ]
    },
    {
      "cell_type": "code",
      "source": [
        "# Make predictions on the test set\n",
        "y_pred = nb_classifier.predict(X_test)"
      ],
      "metadata": {
        "id": "HEm41W4wI9dU"
      },
      "execution_count": 22,
      "outputs": []
    },
    {
      "cell_type": "code",
      "source": [
        "# Calculate accuracy\n",
        "accuracy = accuracy_score(y_test, y_pred)\n",
        "print(f'Accuracy: {accuracy:.2f}')"
      ],
      "metadata": {
        "colab": {
          "base_uri": "https://localhost:8080/"
        },
        "id": "2Hqx37vxJFo4",
        "outputId": "5bfbf620-7778-4664-bb22-b836292c3d0e"
      },
      "execution_count": 23,
      "outputs": [
        {
          "output_type": "stream",
          "name": "stdout",
          "text": [
            "Accuracy: 0.85\n"
          ]
        }
      ]
    },
    {
      "cell_type": "code",
      "source": [
        "# Generate a classification report\n",
        "class_report = classification_report(y_test, y_pred)\n",
        "print('Classification Report:\\n', class_report)"
      ],
      "metadata": {
        "colab": {
          "base_uri": "https://localhost:8080/"
        },
        "id": "JDwd0XpuJJOv",
        "outputId": "7e7535eb-a385-46c9-c557-78ad9e7cd52b"
      },
      "execution_count": 24,
      "outputs": [
        {
          "output_type": "stream",
          "name": "stdout",
          "text": [
            "Classification Report:\n",
            "               precision    recall  f1-score   support\n",
            "\n",
            "    negative       0.83      0.88      0.85      4961\n",
            "    positive       0.87      0.82      0.85      5039\n",
            "\n",
            "    accuracy                           0.85     10000\n",
            "   macro avg       0.85      0.85      0.85     10000\n",
            "weighted avg       0.85      0.85      0.85     10000\n",
            "\n"
          ]
        }
      ]
    },
    {
      "cell_type": "code",
      "source": [
        "# Create a confusion matrix\n",
        "conf_matrix = confusion_matrix(y_test, y_pred)\n",
        "print('Confusion Matrix:\\n', conf_matrix)"
      ],
      "metadata": {
        "colab": {
          "base_uri": "https://localhost:8080/"
        },
        "id": "cvyvQR1yJK9Y",
        "outputId": "45dbb11c-83ac-4208-a31b-387a03986ae3"
      },
      "execution_count": 25,
      "outputs": [
        {
          "output_type": "stream",
          "name": "stdout",
          "text": [
            "Confusion Matrix:\n",
            " [[4360  601]\n",
            " [ 912 4127]]\n"
          ]
        }
      ]
    },
    {
      "cell_type": "code",
      "source": [
        "import seaborn as sns\n",
        "\n",
        "# Visualize the confusion matrix\n",
        "plt.figure(figsize=(6, 6))\n",
        "sns.heatmap(conf_matrix, annot=True, fmt=\"d\", cmap=\"Blues\", cbar=False)\n",
        "plt.title('Confusion Matrix')\n",
        "plt.xticks([0, 1], ['Negative', 'Positive'])\n",
        "plt.yticks([0, 1], ['Negative', 'Positive'])\n",
        "plt.xlabel('Predicted')\n",
        "plt.ylabel('True')\n",
        "plt.show()"
      ],
      "metadata": {
        "colab": {
          "base_uri": "https://localhost:8080/",
          "height": 573
        },
        "id": "CsWMBsdbJM0v",
        "outputId": "0c7e1fa9-814c-49f9-bcfc-4ecd163b0e91"
      },
      "execution_count": 28,
      "outputs": [
        {
          "output_type": "display_data",
          "data": {
            "text/plain": [
              "<Figure size 600x600 with 1 Axes>"
            ],
            "image/png": "[encoded data removed]"
          },
          "metadata": {}
        }
      ]
    }
  ]
}